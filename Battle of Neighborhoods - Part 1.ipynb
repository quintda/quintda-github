{
 "cells": [
  {
   "cell_type": "markdown",
   "metadata": {},
   "source": [
    "# Battle of neighborhoods - Part 1"
   ]
  },
  {
   "cell_type": "markdown",
   "metadata": {},
   "source": [
    "## Description of the problem and discussion of the background"
   ]
  },
  {
   "cell_type": "markdown",
   "metadata": {},
   "source": [
    "The United States of America is one of the countries with the highest rate of obesity in the world, both for adults and for children. It is estimated that about 71% of the American population over 15 years of age is obese or overweight. In children, the situation is more serious since the obesity rate is 43%, the highest value worldwide.\n",
    "An OECD report published in 2019 highlights obesity as an important risk factor for many chronic diseases, including diabetes, cardiovascular disease and cancer.\n",
    "\n",
    "To promote a decrease in these values, it is necessary to implement some changes in lifestyle, namely with regard to the consumption of fast food, obesity and physical inactivity. Gyms are one of the “weapons” to combat these aspects, since they promote healthy eating habits and physical activity.\n",
    "\n",
    "Having said that, and taking New York City as a sample, I intend to get an answer to the following problems:\n",
    "\n",
    "    - Compare the number of Fast Food restaurants with the number of Gyms in the different boroughs of New York;\n",
    "    - What are the neighborhoods with higher/less number of gyms?\n",
    "    - What are the neighborhoods with higher/less number of fast food restaurants?    \n",
    "    - In how many neighborhoods there are no gyms?\n",
    "    - What is the best neighborhood to live in if you like going to gyms?\n",
    "    - What is the best neighborhood to open a new gym?"
   ]
  },
  {
   "cell_type": "markdown",
   "metadata": {},
   "source": [
    "## Description of the data and how it will be used to solve the problem"
   ]
  },
  {
   "cell_type": "markdown",
   "metadata": {},
   "source": [
    "The data acquired for this final capstone was collected from two diferent sources. \n",
    "The first data source (https://cocl.us/new_york_dataset), contains data about New York City. Through this dataset it was possible to obtain a dataframe with the boroughs, neighborhoods of New York and the respective latitudes and longitudes.\n",
    "\n",
    "The second source of data comes from Foursquare API. Through this API it was possible to obtain all venues in each of the neighborhoods and subsequently filter by gyms and fast food restaurants in order to make an exploratory analysis by neighborhood.\n",
    "\n",
    "This dataset, by having the locations of every neighborhood of New York City and the respective points of interest, satisfies the requirements needed to perform the analysis above described.\n",
    "\n",
    "People or companies that want to open their business, must have prior knowledge about the possible place where they can or cannot proceed with their project. This work focuses on gyms, but with the necessary changes it can be adapted to another type of establishment or business."
   ]
  }
 ],
 "metadata": {
  "kernelspec": {
   "display_name": "Python 3",
   "language": "python",
   "name": "python3"
  },
  "language_info": {
   "codemirror_mode": {
    "name": "ipython",
    "version": 3
   },
   "file_extension": ".py",
   "mimetype": "text/x-python",
   "name": "python",
   "nbconvert_exporter": "python",
   "pygments_lexer": "ipython3",
   "version": "3.7.4"
  }
 },
 "nbformat": 4,
 "nbformat_minor": 2
}
